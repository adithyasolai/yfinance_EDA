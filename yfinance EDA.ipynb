{
  "nbformat": 4,
  "nbformat_minor": 0,
  "metadata": {
    "colab": {
      "name": "Data Collection & Exploratory Data Analysis (EDA)",
      "provenance": [],
      "collapsed_sections": []
    },
    "kernelspec": {
      "name": "python3",
      "display_name": "Python 3"
    }
  },
  "cells": [
    {
      "cell_type": "markdown",
      "metadata": {
        "id": "WAxzhwAHmQ5l"
      },
      "source": [
        "Written by Adithya Solai\n"
      ]
    },
    {
      "cell_type": "markdown",
      "metadata": {
        "id": "s47TGKEpEWVE"
      },
      "source": [
        "More about yfinance API here: https://pypi.org/project/yfinance/"
      ]
    },
    {
      "cell_type": "markdown",
      "metadata": {
        "id": "KvOk_0bFI37E"
      },
      "source": [
        "Bloomberg Python API seems to require using C++ and Bloomberg C++ API: https://medium.com/@johann_78792/getting-started-with-bloombergs-python-desktop-api-5fd083b4193a"
      ]
    },
    {
      "cell_type": "markdown",
      "metadata": {
        "id": "O5eU4ZGfKOcs"
      },
      "source": [
        "Fancy, Costly APIs:\n",
        "\n",
        "https://rapidapi.com/marketplace\n",
        "\n",
        "https://polygon.io/"
      ]
    },
    {
      "cell_type": "code",
      "metadata": {
        "colab": {
          "base_uri": "https://localhost:8080/"
        },
        "id": "vrkNilbmD4aL",
        "outputId": "b1ddd162-e935-4c77-a3ba-f47205f220d0"
      },
      "source": [
        "!pip install yfinance"
      ],
      "execution_count": null,
      "outputs": [
        {
          "output_type": "stream",
          "text": [
            "Collecting yfinance\n",
            "  Downloading https://files.pythonhosted.org/packages/7a/e8/b9d7104d3a4bf39924799067592d9e59119fcfc900a425a12e80a3123ec8/yfinance-0.1.55.tar.gz\n",
            "Requirement already satisfied: pandas>=0.24 in /usr/local/lib/python3.6/dist-packages (from yfinance) (1.1.4)\n",
            "Requirement already satisfied: numpy>=1.15 in /usr/local/lib/python3.6/dist-packages (from yfinance) (1.18.5)\n",
            "Requirement already satisfied: requests>=2.20 in /usr/local/lib/python3.6/dist-packages (from yfinance) (2.23.0)\n",
            "Requirement already satisfied: multitasking>=0.0.7 in /usr/local/lib/python3.6/dist-packages (from yfinance) (0.0.9)\n",
            "Collecting lxml>=4.5.1\n",
            "\u001b[?25l  Downloading https://files.pythonhosted.org/packages/64/28/0b761b64ecbd63d272ed0e7a6ae6e4402fc37886b59181bfdf274424d693/lxml-4.6.1-cp36-cp36m-manylinux1_x86_64.whl (5.5MB)\n",
            "\u001b[K     |████████████████████████████████| 5.5MB 9.0MB/s \n",
            "\u001b[?25hRequirement already satisfied: pytz>=2017.2 in /usr/local/lib/python3.6/dist-packages (from pandas>=0.24->yfinance) (2018.9)\n",
            "Requirement already satisfied: python-dateutil>=2.7.3 in /usr/local/lib/python3.6/dist-packages (from pandas>=0.24->yfinance) (2.8.1)\n",
            "Requirement already satisfied: idna<3,>=2.5 in /usr/local/lib/python3.6/dist-packages (from requests>=2.20->yfinance) (2.10)\n",
            "Requirement already satisfied: urllib3!=1.25.0,!=1.25.1,<1.26,>=1.21.1 in /usr/local/lib/python3.6/dist-packages (from requests>=2.20->yfinance) (1.24.3)\n",
            "Requirement already satisfied: chardet<4,>=3.0.2 in /usr/local/lib/python3.6/dist-packages (from requests>=2.20->yfinance) (3.0.4)\n",
            "Requirement already satisfied: certifi>=2017.4.17 in /usr/local/lib/python3.6/dist-packages (from requests>=2.20->yfinance) (2020.6.20)\n",
            "Requirement already satisfied: six>=1.5 in /usr/local/lib/python3.6/dist-packages (from python-dateutil>=2.7.3->pandas>=0.24->yfinance) (1.15.0)\n",
            "Building wheels for collected packages: yfinance\n",
            "  Building wheel for yfinance (setup.py) ... \u001b[?25l\u001b[?25hdone\n",
            "  Created wheel for yfinance: filename=yfinance-0.1.55-py2.py3-none-any.whl size=22618 sha256=4d064b1ac573facaca0dd35a3d333eadbfc736a8590f2e4bc1c7ec82fb57a1fc\n",
            "  Stored in directory: /root/.cache/pip/wheels/04/98/cc/2702a4242d60bdc14f48b4557c427ded1fe92aedf257d4565c\n",
            "Successfully built yfinance\n",
            "Installing collected packages: lxml, yfinance\n",
            "  Found existing installation: lxml 4.2.6\n",
            "    Uninstalling lxml-4.2.6:\n",
            "      Successfully uninstalled lxml-4.2.6\n",
            "Successfully installed lxml-4.6.1 yfinance-0.1.55\n"
          ],
          "name": "stdout"
        }
      ]
    },
    {
      "cell_type": "code",
      "metadata": {
        "id": "vl9oIlk7Dqbl"
      },
      "source": [
        "import yfinance as yf\n",
        "import pandas as pd\n",
        "import numpy as np\n",
        "import matplotlib.pyplot as plt"
      ],
      "execution_count": null,
      "outputs": []
    },
    {
      "cell_type": "code",
      "metadata": {
        "id": "4y61h2o0D3qe"
      },
      "source": [
        "# Initialize ehealth Ticker object so we can pull data from it pythonicly\n",
        "ehealth = yf.Ticker(\"ehth\")"
      ],
      "execution_count": null,
      "outputs": []
    },
    {
      "cell_type": "markdown",
      "metadata": {
        "id": "DuBdMgnQWQhb"
      },
      "source": [
        "**The next couple of cells show what type of data can be extracted from this API for $EHTH. The later cells also show simple plots of historical price and volume data**\n",
        "\n",
        "*Need to test the API calls that don't work on \\$EHTH with other Tickers to see if it is a problem specific to \\$EHTH or the entire API.*"
      ]
    },
    {
      "cell_type": "code",
      "metadata": {
        "colab": {
          "base_uri": "https://localhost:8080/",
          "height": 266
        },
        "id": "HbY2t0M0VRp1",
        "outputId": "856161f1-b5a5-4dda-fe73-dcc9edbdf4e9"
      },
      "source": [
        "ehealth.calendar"
      ],
      "execution_count": null,
      "outputs": [
        {
          "output_type": "execute_result",
          "data": {
            "text/html": [
              "<div>\n",
              "<style scoped>\n",
              "    .dataframe tbody tr th:only-of-type {\n",
              "        vertical-align: middle;\n",
              "    }\n",
              "\n",
              "    .dataframe tbody tr th {\n",
              "        vertical-align: top;\n",
              "    }\n",
              "\n",
              "    .dataframe thead th {\n",
              "        text-align: right;\n",
              "    }\n",
              "</style>\n",
              "<table border=\"1\" class=\"dataframe\">\n",
              "  <thead>\n",
              "    <tr style=\"text-align: right;\">\n",
              "      <th></th>\n",
              "      <th>0</th>\n",
              "      <th>1</th>\n",
              "    </tr>\n",
              "  </thead>\n",
              "  <tbody>\n",
              "    <tr>\n",
              "      <th>Earnings Date</th>\n",
              "      <td>2021-02-18 00:00:00</td>\n",
              "      <td>2021-02-22 00:00:00</td>\n",
              "    </tr>\n",
              "    <tr>\n",
              "      <th>Earnings Average</th>\n",
              "      <td>4.08</td>\n",
              "      <td>4.08</td>\n",
              "    </tr>\n",
              "    <tr>\n",
              "      <th>Earnings Low</th>\n",
              "      <td>3.8</td>\n",
              "      <td>3.8</td>\n",
              "    </tr>\n",
              "    <tr>\n",
              "      <th>Earnings High</th>\n",
              "      <td>4.4</td>\n",
              "      <td>4.4</td>\n",
              "    </tr>\n",
              "    <tr>\n",
              "      <th>Revenue Average</th>\n",
              "      <td>372290000</td>\n",
              "      <td>372290000</td>\n",
              "    </tr>\n",
              "    <tr>\n",
              "      <th>Revenue Low</th>\n",
              "      <td>355950000</td>\n",
              "      <td>355950000</td>\n",
              "    </tr>\n",
              "    <tr>\n",
              "      <th>Revenue High</th>\n",
              "      <td>395900000</td>\n",
              "      <td>395900000</td>\n",
              "    </tr>\n",
              "  </tbody>\n",
              "</table>\n",
              "</div>"
            ],
            "text/plain": [
              "                                    0                    1\n",
              "Earnings Date     2021-02-18 00:00:00  2021-02-22 00:00:00\n",
              "Earnings Average                 4.08                 4.08\n",
              "Earnings Low                      3.8                  3.8\n",
              "Earnings High                     4.4                  4.4\n",
              "Revenue Average             372290000            372290000\n",
              "Revenue Low                 355950000            355950000\n",
              "Revenue High                395900000            395900000"
            ]
          },
          "metadata": {
            "tags": []
          },
          "execution_count": 4
        }
      ]
    },
    {
      "cell_type": "code",
      "metadata": {
        "colab": {
          "base_uri": "https://localhost:8080/",
          "height": 173
        },
        "id": "8H7X1vujVTrs",
        "outputId": "42589ae5-9a24-411e-91d7-3a5cd67d66ec"
      },
      "source": [
        "ehealth.major_holders"
      ],
      "execution_count": null,
      "outputs": [
        {
          "output_type": "execute_result",
          "data": {
            "text/html": [
              "<div>\n",
              "<style scoped>\n",
              "    .dataframe tbody tr th:only-of-type {\n",
              "        vertical-align: middle;\n",
              "    }\n",
              "\n",
              "    .dataframe tbody tr th {\n",
              "        vertical-align: top;\n",
              "    }\n",
              "\n",
              "    .dataframe thead th {\n",
              "        text-align: right;\n",
              "    }\n",
              "</style>\n",
              "<table border=\"1\" class=\"dataframe\">\n",
              "  <thead>\n",
              "    <tr style=\"text-align: right;\">\n",
              "      <th></th>\n",
              "      <th>0</th>\n",
              "      <th>1</th>\n",
              "    </tr>\n",
              "  </thead>\n",
              "  <tbody>\n",
              "    <tr>\n",
              "      <th>0</th>\n",
              "      <td>4.29%</td>\n",
              "      <td>% of Shares Held by All Insider</td>\n",
              "    </tr>\n",
              "    <tr>\n",
              "      <th>1</th>\n",
              "      <td>110.37%</td>\n",
              "      <td>% of Shares Held by Institutions</td>\n",
              "    </tr>\n",
              "    <tr>\n",
              "      <th>2</th>\n",
              "      <td>115.32%</td>\n",
              "      <td>% of Float Held by Institutions</td>\n",
              "    </tr>\n",
              "    <tr>\n",
              "      <th>3</th>\n",
              "      <td>347</td>\n",
              "      <td>Number of Institutions Holding Shares</td>\n",
              "    </tr>\n",
              "  </tbody>\n",
              "</table>\n",
              "</div>"
            ],
            "text/plain": [
              "         0                                      1\n",
              "0    4.29%        % of Shares Held by All Insider\n",
              "1  110.37%       % of Shares Held by Institutions\n",
              "2  115.32%        % of Float Held by Institutions\n",
              "3      347  Number of Institutions Holding Shares"
            ]
          },
          "metadata": {
            "tags": []
          },
          "execution_count": 6
        }
      ]
    },
    {
      "cell_type": "code",
      "metadata": {
        "colab": {
          "base_uri": "https://localhost:8080/",
          "height": 359
        },
        "id": "5b6WTmzEVZuP",
        "outputId": "75f93af6-5cd7-41f4-a031-ad77a8679502"
      },
      "source": [
        "ehealth.institutional_holders"
      ],
      "execution_count": null,
      "outputs": [
        {
          "output_type": "execute_result",
          "data": {
            "text/html": [
              "<div>\n",
              "<style scoped>\n",
              "    .dataframe tbody tr th:only-of-type {\n",
              "        vertical-align: middle;\n",
              "    }\n",
              "\n",
              "    .dataframe tbody tr th {\n",
              "        vertical-align: top;\n",
              "    }\n",
              "\n",
              "    .dataframe thead th {\n",
              "        text-align: right;\n",
              "    }\n",
              "</style>\n",
              "<table border=\"1\" class=\"dataframe\">\n",
              "  <thead>\n",
              "    <tr style=\"text-align: right;\">\n",
              "      <th></th>\n",
              "      <th>Holder</th>\n",
              "      <th>Shares</th>\n",
              "      <th>Date Reported</th>\n",
              "      <th>% Out</th>\n",
              "      <th>Value</th>\n",
              "    </tr>\n",
              "  </thead>\n",
              "  <tbody>\n",
              "    <tr>\n",
              "      <th>0</th>\n",
              "      <td>Blackrock Inc.</td>\n",
              "      <td>3937146</td>\n",
              "      <td>2020-09-29</td>\n",
              "      <td>0.1520</td>\n",
              "      <td>311034534</td>\n",
              "    </tr>\n",
              "    <tr>\n",
              "      <th>1</th>\n",
              "      <td>Vanguard Group, Inc. (The)</td>\n",
              "      <td>2252529</td>\n",
              "      <td>2020-09-29</td>\n",
              "      <td>0.0870</td>\n",
              "      <td>177949791</td>\n",
              "    </tr>\n",
              "    <tr>\n",
              "      <th>2</th>\n",
              "      <td>FMR, LLC</td>\n",
              "      <td>2196873</td>\n",
              "      <td>2020-09-29</td>\n",
              "      <td>0.0848</td>\n",
              "      <td>173552967</td>\n",
              "    </tr>\n",
              "    <tr>\n",
              "      <th>3</th>\n",
              "      <td>Ruffer LLP</td>\n",
              "      <td>1060786</td>\n",
              "      <td>2020-09-29</td>\n",
              "      <td>0.0410</td>\n",
              "      <td>83802094</td>\n",
              "    </tr>\n",
              "    <tr>\n",
              "      <th>4</th>\n",
              "      <td>State Street Corporation</td>\n",
              "      <td>897743</td>\n",
              "      <td>2020-09-29</td>\n",
              "      <td>0.0347</td>\n",
              "      <td>70921697</td>\n",
              "    </tr>\n",
              "    <tr>\n",
              "      <th>5</th>\n",
              "      <td>Citadel Advisors LLC</td>\n",
              "      <td>854042</td>\n",
              "      <td>2020-09-29</td>\n",
              "      <td>0.0330</td>\n",
              "      <td>67469318</td>\n",
              "    </tr>\n",
              "    <tr>\n",
              "      <th>6</th>\n",
              "      <td>St. Denis J. Villere &amp; Company</td>\n",
              "      <td>844899</td>\n",
              "      <td>2020-09-29</td>\n",
              "      <td>0.0326</td>\n",
              "      <td>66747021</td>\n",
              "    </tr>\n",
              "    <tr>\n",
              "      <th>7</th>\n",
              "      <td>Granahan Investment Management Inc.</td>\n",
              "      <td>818550</td>\n",
              "      <td>2020-09-29</td>\n",
              "      <td>0.0316</td>\n",
              "      <td>64665450</td>\n",
              "    </tr>\n",
              "    <tr>\n",
              "      <th>8</th>\n",
              "      <td>Dimensional Fund Advisors LP</td>\n",
              "      <td>652739</td>\n",
              "      <td>2020-09-29</td>\n",
              "      <td>0.0252</td>\n",
              "      <td>51566381</td>\n",
              "    </tr>\n",
              "    <tr>\n",
              "      <th>9</th>\n",
              "      <td>Invesco Ltd.</td>\n",
              "      <td>646445</td>\n",
              "      <td>2020-09-29</td>\n",
              "      <td>0.0250</td>\n",
              "      <td>51069155</td>\n",
              "    </tr>\n",
              "  </tbody>\n",
              "</table>\n",
              "</div>"
            ],
            "text/plain": [
              "                                Holder   Shares  ...   % Out      Value\n",
              "0                       Blackrock Inc.  3937146  ...  0.1520  311034534\n",
              "1           Vanguard Group, Inc. (The)  2252529  ...  0.0870  177949791\n",
              "2                             FMR, LLC  2196873  ...  0.0848  173552967\n",
              "3                           Ruffer LLP  1060786  ...  0.0410   83802094\n",
              "4             State Street Corporation   897743  ...  0.0347   70921697\n",
              "5                 Citadel Advisors LLC   854042  ...  0.0330   67469318\n",
              "6       St. Denis J. Villere & Company   844899  ...  0.0326   66747021\n",
              "7  Granahan Investment Management Inc.   818550  ...  0.0316   64665450\n",
              "8         Dimensional Fund Advisors LP   652739  ...  0.0252   51566381\n",
              "9                         Invesco Ltd.   646445  ...  0.0250   51069155\n",
              "\n",
              "[10 rows x 5 columns]"
            ]
          },
          "metadata": {
            "tags": []
          },
          "execution_count": 7
        }
      ]
    },
    {
      "cell_type": "code",
      "metadata": {
        "colab": {
          "base_uri": "https://localhost:8080/"
        },
        "id": "Ho3NLaBsVjwq",
        "outputId": "13e09bc6-2fd8-4d9b-a355-361b18faeacb"
      },
      "source": [
        "# Shows options expirations\n",
        "ehealth.options"
      ],
      "execution_count": null,
      "outputs": [
        {
          "output_type": "execute_result",
          "data": {
            "text/plain": [
              "('2020-12-18',\n",
              " '2021-01-15',\n",
              " '2021-02-19',\n",
              " '2021-05-21',\n",
              " '2021-10-15',\n",
              " '2022-01-21',\n",
              " '2023-01-20')"
            ]
          },
          "metadata": {
            "tags": []
          },
          "execution_count": 8
        }
      ]
    },
    {
      "cell_type": "code",
      "metadata": {
        "colab": {
          "base_uri": "https://localhost:8080/"
        },
        "id": "9av1XMw8VwIw",
        "outputId": "5516ffe6-f607-4b9f-b52a-769c09760fcb"
      },
      "source": [
        "# Get the option chaing for some valid expiration date\n",
        "ehealth.option_chain('2020-12-18')"
      ],
      "execution_count": null,
      "outputs": [
        {
          "output_type": "execute_result",
          "data": {
            "text/plain": [
              "Options(calls=         contractSymbol       lastTradeDate  ...  contractSize  currency\n",
              "0   EHTH201218C00050000 2020-11-04 17:36:24  ...       REGULAR       USD\n",
              "1   EHTH201218C00055000 2020-11-16 18:12:02  ...       REGULAR       USD\n",
              "2   EHTH201218C00060000 2020-11-19 19:22:47  ...       REGULAR       USD\n",
              "3   EHTH201218C00065000 2020-11-18 16:55:37  ...       REGULAR       USD\n",
              "4   EHTH201218C00070000 2020-11-20 16:34:11  ...       REGULAR       USD\n",
              "5   EHTH201218C00075000 2020-11-20 20:57:57  ...       REGULAR       USD\n",
              "6   EHTH201218C00080000 2020-11-20 20:07:17  ...       REGULAR       USD\n",
              "7   EHTH201218C00085000 2020-11-20 20:56:07  ...       REGULAR       USD\n",
              "8   EHTH201218C00090000 2020-11-20 19:12:05  ...       REGULAR       USD\n",
              "9   EHTH201218C00095000 2020-11-18 16:36:42  ...       REGULAR       USD\n",
              "10  EHTH201218C00100000 2020-11-20 20:42:11  ...       REGULAR       USD\n",
              "11  EHTH201218C00105000 2020-11-10 17:49:04  ...       REGULAR       USD\n",
              "12  EHTH201218C00115000 2020-10-22 16:31:26  ...       REGULAR       USD\n",
              "13  EHTH201218C00120000 2020-10-28 17:59:49  ...       REGULAR       USD\n",
              "\n",
              "[14 rows x 14 columns], puts=        contractSymbol       lastTradeDate  ...  contractSize  currency\n",
              "0  EHTH201218P00045000 2020-11-04 18:55:15  ...       REGULAR       USD\n",
              "1  EHTH201218P00050000 2020-11-18 14:30:01  ...       REGULAR       USD\n",
              "2  EHTH201218P00055000 2020-11-18 18:34:33  ...       REGULAR       USD\n",
              "3  EHTH201218P00060000 2020-11-20 16:22:58  ...       REGULAR       USD\n",
              "4  EHTH201218P00065000 2020-11-20 20:44:43  ...       REGULAR       USD\n",
              "5  EHTH201218P00070000 2020-11-20 20:58:20  ...       REGULAR       USD\n",
              "6  EHTH201218P00075000 2020-11-20 20:54:47  ...       REGULAR       USD\n",
              "7  EHTH201218P00080000 2020-11-20 20:09:32  ...       REGULAR       USD\n",
              "8  EHTH201218P00085000 2020-11-20 17:22:50  ...       REGULAR       USD\n",
              "9  EHTH201218P00090000 2020-11-20 17:17:31  ...       REGULAR       USD\n",
              "\n",
              "[10 rows x 14 columns])"
            ]
          },
          "metadata": {
            "tags": []
          },
          "execution_count": 9
        }
      ]
    },
    {
      "cell_type": "code",
      "metadata": {
        "colab": {
          "base_uri": "https://localhost:8080/",
          "height": 450
        },
        "id": "6xGxNKAzV6VZ",
        "outputId": "241ecc25-368f-47c0-c818-b4910393bc6d"
      },
      "source": [
        "# Recommendations of analysts over time\n",
        "ehealth.recommendations"
      ],
      "execution_count": null,
      "outputs": [
        {
          "output_type": "execute_result",
          "data": {
            "text/html": [
              "<div>\n",
              "<style scoped>\n",
              "    .dataframe tbody tr th:only-of-type {\n",
              "        vertical-align: middle;\n",
              "    }\n",
              "\n",
              "    .dataframe tbody tr th {\n",
              "        vertical-align: top;\n",
              "    }\n",
              "\n",
              "    .dataframe thead th {\n",
              "        text-align: right;\n",
              "    }\n",
              "</style>\n",
              "<table border=\"1\" class=\"dataframe\">\n",
              "  <thead>\n",
              "    <tr style=\"text-align: right;\">\n",
              "      <th></th>\n",
              "      <th>Firm</th>\n",
              "      <th>To Grade</th>\n",
              "      <th>From Grade</th>\n",
              "      <th>Action</th>\n",
              "    </tr>\n",
              "    <tr>\n",
              "      <th>Date</th>\n",
              "      <th></th>\n",
              "      <th></th>\n",
              "      <th></th>\n",
              "      <th></th>\n",
              "    </tr>\n",
              "  </thead>\n",
              "  <tbody>\n",
              "    <tr>\n",
              "      <th>2012-04-02 06:07:00</th>\n",
              "      <td>Bank oferica</td>\n",
              "      <td>Neutral</td>\n",
              "      <td></td>\n",
              "      <td>down</td>\n",
              "    </tr>\n",
              "    <tr>\n",
              "      <th>2012-06-29 05:39:00</th>\n",
              "      <td>Bank of America</td>\n",
              "      <td>Buy</td>\n",
              "      <td></td>\n",
              "      <td>up</td>\n",
              "    </tr>\n",
              "    <tr>\n",
              "      <th>2012-07-27 06:48:00</th>\n",
              "      <td>Deutsche Bank</td>\n",
              "      <td>Hold</td>\n",
              "      <td></td>\n",
              "      <td>main</td>\n",
              "    </tr>\n",
              "    <tr>\n",
              "      <th>2012-10-26 08:08:00</th>\n",
              "      <td>Deutsche Bank</td>\n",
              "      <td>Hold</td>\n",
              "      <td></td>\n",
              "      <td>main</td>\n",
              "    </tr>\n",
              "    <tr>\n",
              "      <th>2012-12-17 09:25:05</th>\n",
              "      <td>William Blair</td>\n",
              "      <td>Outperform</td>\n",
              "      <td></td>\n",
              "      <td>init</td>\n",
              "    </tr>\n",
              "    <tr>\n",
              "      <th>...</th>\n",
              "      <td>...</td>\n",
              "      <td>...</td>\n",
              "      <td>...</td>\n",
              "      <td>...</td>\n",
              "    </tr>\n",
              "    <tr>\n",
              "      <th>2020-07-24 11:11:29</th>\n",
              "      <td>Barclays</td>\n",
              "      <td>Overweight</td>\n",
              "      <td></td>\n",
              "      <td>main</td>\n",
              "    </tr>\n",
              "    <tr>\n",
              "      <th>2020-07-24 12:27:49</th>\n",
              "      <td>Credit Suisse</td>\n",
              "      <td>Outperform</td>\n",
              "      <td></td>\n",
              "      <td>main</td>\n",
              "    </tr>\n",
              "    <tr>\n",
              "      <th>2020-07-27 11:29:51</th>\n",
              "      <td>Raymond James</td>\n",
              "      <td>Outperform</td>\n",
              "      <td></td>\n",
              "      <td>main</td>\n",
              "    </tr>\n",
              "    <tr>\n",
              "      <th>2020-09-08 11:06:41</th>\n",
              "      <td>SVB Leerink</td>\n",
              "      <td>Outperform</td>\n",
              "      <td>Market Perform</td>\n",
              "      <td>up</td>\n",
              "    </tr>\n",
              "    <tr>\n",
              "      <th>2020-09-25 11:43:45</th>\n",
              "      <td>Goldman Sachs</td>\n",
              "      <td>Buy</td>\n",
              "      <td></td>\n",
              "      <td>init</td>\n",
              "    </tr>\n",
              "  </tbody>\n",
              "</table>\n",
              "<p>77 rows × 4 columns</p>\n",
              "</div>"
            ],
            "text/plain": [
              "                                Firm    To Grade      From Grade Action\n",
              "Date                                                                   \n",
              "2012-04-02 06:07:00     Bank oferica     Neutral                   down\n",
              "2012-06-29 05:39:00  Bank of America         Buy                     up\n",
              "2012-07-27 06:48:00    Deutsche Bank        Hold                   main\n",
              "2012-10-26 08:08:00    Deutsche Bank        Hold                   main\n",
              "2012-12-17 09:25:05    William Blair  Outperform                   init\n",
              "...                              ...         ...             ...    ...\n",
              "2020-07-24 11:11:29         Barclays  Overweight                   main\n",
              "2020-07-24 12:27:49    Credit Suisse  Outperform                   main\n",
              "2020-07-27 11:29:51    Raymond James  Outperform                   main\n",
              "2020-09-08 11:06:41      SVB Leerink  Outperform  Market Perform     up\n",
              "2020-09-25 11:43:45    Goldman Sachs         Buy                   init\n",
              "\n",
              "[77 rows x 4 columns]"
            ]
          },
          "metadata": {
            "tags": []
          },
          "execution_count": 10
        }
      ]
    },
    {
      "cell_type": "code",
      "metadata": {
        "id": "Rx6zt8H1D0MO"
      },
      "source": [
        "# These calls are not applicable to eHealth:\n",
        "# ehealth.actions\n",
        "# ehealth.dividends\n",
        "# ehealth.splits\n",
        "# ehealth.financials\n",
        "# ehealth.earnings\n",
        "# ehealth.cashflow\n",
        "# ehealth.balance_sheet"
      ],
      "execution_count": null,
      "outputs": []
    },
    {
      "cell_type": "code",
      "metadata": {
        "colab": {
          "base_uri": "https://localhost:8080/",
          "height": 446
        },
        "id": "KCNMiu2nHnqY",
        "outputId": "df9dbfc4-5743-45f6-9cd9-391162739176"
      },
      "source": [
        "# Get all daily price + volume data for $EHTH since its 10-13-2006 IPO\n",
        "ehealth_df = ehealth.history(period=\"max\", interval='1d')\n",
        "ehealth_df"
      ],
      "execution_count": null,
      "outputs": [
        {
          "output_type": "execute_result",
          "data": {
            "text/html": [
              "<div>\n",
              "<style scoped>\n",
              "    .dataframe tbody tr th:only-of-type {\n",
              "        vertical-align: middle;\n",
              "    }\n",
              "\n",
              "    .dataframe tbody tr th {\n",
              "        vertical-align: top;\n",
              "    }\n",
              "\n",
              "    .dataframe thead th {\n",
              "        text-align: right;\n",
              "    }\n",
              "</style>\n",
              "<table border=\"1\" class=\"dataframe\">\n",
              "  <thead>\n",
              "    <tr style=\"text-align: right;\">\n",
              "      <th></th>\n",
              "      <th>Open</th>\n",
              "      <th>High</th>\n",
              "      <th>Low</th>\n",
              "      <th>Close</th>\n",
              "      <th>Volume</th>\n",
              "      <th>Dividends</th>\n",
              "      <th>Stock Splits</th>\n",
              "    </tr>\n",
              "    <tr>\n",
              "      <th>Date</th>\n",
              "      <th></th>\n",
              "      <th></th>\n",
              "      <th></th>\n",
              "      <th></th>\n",
              "      <th></th>\n",
              "      <th></th>\n",
              "      <th></th>\n",
              "    </tr>\n",
              "  </thead>\n",
              "  <tbody>\n",
              "    <tr>\n",
              "      <th>2006-10-20</th>\n",
              "      <td>22.500000</td>\n",
              "      <td>22.840000</td>\n",
              "      <td>22.250000</td>\n",
              "      <td>22.670000</td>\n",
              "      <td>97000</td>\n",
              "      <td>0</td>\n",
              "      <td>0</td>\n",
              "    </tr>\n",
              "    <tr>\n",
              "      <th>2006-10-23</th>\n",
              "      <td>22.910000</td>\n",
              "      <td>22.910000</td>\n",
              "      <td>21.969999</td>\n",
              "      <td>22.000000</td>\n",
              "      <td>293900</td>\n",
              "      <td>0</td>\n",
              "      <td>0</td>\n",
              "    </tr>\n",
              "    <tr>\n",
              "      <th>2006-10-24</th>\n",
              "      <td>22.000000</td>\n",
              "      <td>22.250000</td>\n",
              "      <td>21.750000</td>\n",
              "      <td>22.100000</td>\n",
              "      <td>132700</td>\n",
              "      <td>0</td>\n",
              "      <td>0</td>\n",
              "    </tr>\n",
              "    <tr>\n",
              "      <th>2006-10-25</th>\n",
              "      <td>22.000000</td>\n",
              "      <td>22.790001</td>\n",
              "      <td>21.780001</td>\n",
              "      <td>22.350000</td>\n",
              "      <td>249000</td>\n",
              "      <td>0</td>\n",
              "      <td>0</td>\n",
              "    </tr>\n",
              "    <tr>\n",
              "      <th>2006-10-26</th>\n",
              "      <td>22.250000</td>\n",
              "      <td>23.500000</td>\n",
              "      <td>21.700001</td>\n",
              "      <td>23.500000</td>\n",
              "      <td>203000</td>\n",
              "      <td>0</td>\n",
              "      <td>0</td>\n",
              "    </tr>\n",
              "    <tr>\n",
              "      <th>...</th>\n",
              "      <td>...</td>\n",
              "      <td>...</td>\n",
              "      <td>...</td>\n",
              "      <td>...</td>\n",
              "      <td>...</td>\n",
              "      <td>...</td>\n",
              "      <td>...</td>\n",
              "    </tr>\n",
              "    <tr>\n",
              "      <th>2020-11-16</th>\n",
              "      <td>72.220001</td>\n",
              "      <td>74.120003</td>\n",
              "      <td>71.339996</td>\n",
              "      <td>73.980003</td>\n",
              "      <td>657000</td>\n",
              "      <td>0</td>\n",
              "      <td>0</td>\n",
              "    </tr>\n",
              "    <tr>\n",
              "      <th>2020-11-17</th>\n",
              "      <td>73.720001</td>\n",
              "      <td>74.300003</td>\n",
              "      <td>72.040001</td>\n",
              "      <td>73.510002</td>\n",
              "      <td>475200</td>\n",
              "      <td>0</td>\n",
              "      <td>0</td>\n",
              "    </tr>\n",
              "    <tr>\n",
              "      <th>2020-11-18</th>\n",
              "      <td>73.980003</td>\n",
              "      <td>75.220001</td>\n",
              "      <td>72.699997</td>\n",
              "      <td>72.849998</td>\n",
              "      <td>474800</td>\n",
              "      <td>0</td>\n",
              "      <td>0</td>\n",
              "    </tr>\n",
              "    <tr>\n",
              "      <th>2020-11-19</th>\n",
              "      <td>73.300003</td>\n",
              "      <td>75.089996</td>\n",
              "      <td>72.199997</td>\n",
              "      <td>74.599998</td>\n",
              "      <td>319300</td>\n",
              "      <td>0</td>\n",
              "      <td>0</td>\n",
              "    </tr>\n",
              "    <tr>\n",
              "      <th>2020-11-20</th>\n",
              "      <td>74.410004</td>\n",
              "      <td>75.150002</td>\n",
              "      <td>73.589996</td>\n",
              "      <td>74.580002</td>\n",
              "      <td>355300</td>\n",
              "      <td>0</td>\n",
              "      <td>0</td>\n",
              "    </tr>\n",
              "  </tbody>\n",
              "</table>\n",
              "<p>3547 rows × 7 columns</p>\n",
              "</div>"
            ],
            "text/plain": [
              "                 Open       High        Low  ...  Volume  Dividends  Stock Splits\n",
              "Date                                         ...                                 \n",
              "2006-10-20  22.500000  22.840000  22.250000  ...   97000          0             0\n",
              "2006-10-23  22.910000  22.910000  21.969999  ...  293900          0             0\n",
              "2006-10-24  22.000000  22.250000  21.750000  ...  132700          0             0\n",
              "2006-10-25  22.000000  22.790001  21.780001  ...  249000          0             0\n",
              "2006-10-26  22.250000  23.500000  21.700001  ...  203000          0             0\n",
              "...               ...        ...        ...  ...     ...        ...           ...\n",
              "2020-11-16  72.220001  74.120003  71.339996  ...  657000          0             0\n",
              "2020-11-17  73.720001  74.300003  72.040001  ...  475200          0             0\n",
              "2020-11-18  73.980003  75.220001  72.699997  ...  474800          0             0\n",
              "2020-11-19  73.300003  75.089996  72.199997  ...  319300          0             0\n",
              "2020-11-20  74.410004  75.150002  73.589996  ...  355300          0             0\n",
              "\n",
              "[3547 rows x 7 columns]"
            ]
          },
          "metadata": {
            "tags": []
          },
          "execution_count": 11
        }
      ]
    },
    {
      "cell_type": "markdown",
      "metadata": {
        "id": "r2SnWpWFNEiT"
      },
      "source": [
        "**Plot Open Prices for eHealth since their IPO (10-20-2006)**"
      ]
    },
    {
      "cell_type": "code",
      "metadata": {
        "colab": {
          "base_uri": "https://localhost:8080/",
          "height": 295
        },
        "id": "5mdD4pFFKvq5",
        "outputId": "04de2b89-0562-4414-9e98-2b29a1041cf3"
      },
      "source": [
        "Y = ehealth_df['Open']\n",
        "X = ehealth_df.index\n",
        "plt.plot(X, Y)\n",
        "plt.title(\"eHealth Open Prices\")\n",
        "plt.xlabel(\"Date\")\n",
        "plt.ylabel(\"Price ($)\")\n",
        "plt.show()"
      ],
      "execution_count": null,
      "outputs": [
        {
          "output_type": "display_data",
          "data": {
            "image/png": "[encoded data removed]",
            "text/plain": [
              "<Figure size 432x288 with 1 Axes>"
            ]
          },
          "metadata": {
            "tags": [],
            "needs_background": "light"
          }
        }
      ]
    },
    {
      "cell_type": "markdown",
      "metadata": {
        "id": "pH-T-hq3NVxj"
      },
      "source": [
        "**Plot High & Low Prices along with Volume for eHealth since their IPO (10-20-2006)**"
      ]
    },
    {
      "cell_type": "code",
      "metadata": {
        "colab": {
          "base_uri": "https://localhost:8080/",
          "height": 285
        },
        "id": "ifJAwGBRH_os",
        "outputId": "d802b5e6-f5b7-42e6-c88a-d20a2b3ed864"
      },
      "source": [
        "# Make high-low prices a separate sub-df so that we can \n",
        "# easily call plot() on this df to automatically add \n",
        "# colored lines and a legend.\n",
        "high_low = ehealth_df[[\"High\", \"Low\"]]\n",
        "ax1 = high_low.plot()\n",
        "ax1.set_xlabel(\"Date\")\n",
        "ax1.set_ylabel(\"Price ($)\")\n",
        "\n",
        "# Add Volume as a twin plot so that the y-axis for Volume\n",
        "# scales with the y-axis for High & Low Prices\n",
        "ax2 = ax1.twinx()\n",
        "ax2.plot(ehealth_df.index, ehealth_df['Volume'], color = \"green\")\n",
        "ax2.set_ylabel(\"Volume (Millions of Shares)\")\n",
        "\n",
        "# Create a consolidated legend for lines from ax1 and ax2\n",
        "ax1.legend((ax1.lines[0], ax1.lines[1], ax2.lines[0]), (\"High\", \"Low\", \"Volume\"))\n",
        "\n",
        "plt.title(\"eHealth Daily High & Low Prices w/ Volume\")\n",
        "\n",
        "plt.show()"
      ],
      "execution_count": null,
      "outputs": [
        {
          "output_type": "display_data",
          "data": {
            "image/png": "[encoded data removed]",
            "text/plain": [
              "<Figure size 432x288 with 2 Axes>"
            ]
          },
          "metadata": {
            "tags": [],
            "needs_background": "light"
          }
        }
      ]
    },
    {
      "cell_type": "markdown",
      "metadata": {
        "id": "CDHM7R2heWOQ"
      },
      "source": [
        "**Plot analyst ratings from William Blair, Deutsche Bank, and Bank of America over time.**\n"
      ]
    },
    {
      "cell_type": "code",
      "metadata": {
        "colab": {
          "base_uri": "https://localhost:8080/",
          "height": 446
        },
        "id": "hftLTGXLefgb",
        "outputId": "9e7f5533-7c05-4ff6-91fe-2727abb35616"
      },
      "source": [
        "ratings = ehealth.recommendations\n",
        "ratings"
      ],
      "execution_count": null,
      "outputs": [
        {
          "output_type": "execute_result",
          "data": {
            "text/html": [
              "<div>\n",
              "<style scoped>\n",
              "    .dataframe tbody tr th:only-of-type {\n",
              "        vertical-align: middle;\n",
              "    }\n",
              "\n",
              "    .dataframe tbody tr th {\n",
              "        vertical-align: top;\n",
              "    }\n",
              "\n",
              "    .dataframe thead th {\n",
              "        text-align: right;\n",
              "    }\n",
              "</style>\n",
              "<table border=\"1\" class=\"dataframe\">\n",
              "  <thead>\n",
              "    <tr style=\"text-align: right;\">\n",
              "      <th></th>\n",
              "      <th>Firm</th>\n",
              "      <th>To Grade</th>\n",
              "      <th>From Grade</th>\n",
              "      <th>Action</th>\n",
              "    </tr>\n",
              "    <tr>\n",
              "      <th>Date</th>\n",
              "      <th></th>\n",
              "      <th></th>\n",
              "      <th></th>\n",
              "      <th></th>\n",
              "    </tr>\n",
              "  </thead>\n",
              "  <tbody>\n",
              "    <tr>\n",
              "      <th>2012-04-02 06:07:00</th>\n",
              "      <td>Bank oferica</td>\n",
              "      <td>Neutral</td>\n",
              "      <td></td>\n",
              "      <td>down</td>\n",
              "    </tr>\n",
              "    <tr>\n",
              "      <th>2012-06-29 05:39:00</th>\n",
              "      <td>Bank of America</td>\n",
              "      <td>Buy</td>\n",
              "      <td></td>\n",
              "      <td>up</td>\n",
              "    </tr>\n",
              "    <tr>\n",
              "      <th>2012-07-27 06:48:00</th>\n",
              "      <td>Deutsche Bank</td>\n",
              "      <td>Hold</td>\n",
              "      <td></td>\n",
              "      <td>main</td>\n",
              "    </tr>\n",
              "    <tr>\n",
              "      <th>2012-10-26 08:08:00</th>\n",
              "      <td>Deutsche Bank</td>\n",
              "      <td>Hold</td>\n",
              "      <td></td>\n",
              "      <td>main</td>\n",
              "    </tr>\n",
              "    <tr>\n",
              "      <th>2012-12-17 09:25:05</th>\n",
              "      <td>William Blair</td>\n",
              "      <td>Outperform</td>\n",
              "      <td></td>\n",
              "      <td>init</td>\n",
              "    </tr>\n",
              "    <tr>\n",
              "      <th>...</th>\n",
              "      <td>...</td>\n",
              "      <td>...</td>\n",
              "      <td>...</td>\n",
              "      <td>...</td>\n",
              "    </tr>\n",
              "    <tr>\n",
              "      <th>2020-07-24 11:11:29</th>\n",
              "      <td>Barclays</td>\n",
              "      <td>Overweight</td>\n",
              "      <td></td>\n",
              "      <td>main</td>\n",
              "    </tr>\n",
              "    <tr>\n",
              "      <th>2020-07-24 12:27:49</th>\n",
              "      <td>Credit Suisse</td>\n",
              "      <td>Outperform</td>\n",
              "      <td></td>\n",
              "      <td>main</td>\n",
              "    </tr>\n",
              "    <tr>\n",
              "      <th>2020-07-27 11:29:51</th>\n",
              "      <td>Raymond James</td>\n",
              "      <td>Outperform</td>\n",
              "      <td></td>\n",
              "      <td>main</td>\n",
              "    </tr>\n",
              "    <tr>\n",
              "      <th>2020-09-08 11:06:41</th>\n",
              "      <td>SVB Leerink</td>\n",
              "      <td>Outperform</td>\n",
              "      <td>Market Perform</td>\n",
              "      <td>up</td>\n",
              "    </tr>\n",
              "    <tr>\n",
              "      <th>2020-09-25 11:43:45</th>\n",
              "      <td>Goldman Sachs</td>\n",
              "      <td>Buy</td>\n",
              "      <td></td>\n",
              "      <td>init</td>\n",
              "    </tr>\n",
              "  </tbody>\n",
              "</table>\n",
              "<p>77 rows × 4 columns</p>\n",
              "</div>"
            ],
            "text/plain": [
              "                                Firm    To Grade      From Grade Action\n",
              "Date                                                                   \n",
              "2012-04-02 06:07:00     Bank oferica     Neutral                   down\n",
              "2012-06-29 05:39:00  Bank of America         Buy                     up\n",
              "2012-07-27 06:48:00    Deutsche Bank        Hold                   main\n",
              "2012-10-26 08:08:00    Deutsche Bank        Hold                   main\n",
              "2012-12-17 09:25:05    William Blair  Outperform                   init\n",
              "...                              ...         ...             ...    ...\n",
              "2020-07-24 11:11:29         Barclays  Overweight                   main\n",
              "2020-07-24 12:27:49    Credit Suisse  Outperform                   main\n",
              "2020-07-27 11:29:51    Raymond James  Outperform                   main\n",
              "2020-09-08 11:06:41      SVB Leerink  Outperform  Market Perform     up\n",
              "2020-09-25 11:43:45    Goldman Sachs         Buy                   init\n",
              "\n",
              "[77 rows x 4 columns]"
            ]
          },
          "metadata": {
            "tags": []
          },
          "execution_count": 14
        }
      ]
    },
    {
      "cell_type": "code",
      "metadata": {
        "colab": {
          "base_uri": "https://localhost:8080/"
        },
        "id": "vB8Hu-D_e_mY",
        "outputId": "9636538f-e9cb-4f47-83a6-d857aba9c477"
      },
      "source": [
        "len(ratings)"
      ],
      "execution_count": null,
      "outputs": [
        {
          "output_type": "execute_result",
          "data": {
            "text/plain": [
              "77"
            ]
          },
          "metadata": {
            "tags": []
          },
          "execution_count": 15
        }
      ]
    },
    {
      "cell_type": "code",
      "metadata": {
        "colab": {
          "base_uri": "https://localhost:8080/",
          "height": 446
        },
        "id": "TORyB4IVfJU8",
        "outputId": "f9043284-cd79-4f48-86f5-ae24179ba005"
      },
      "source": [
        "# Trim down to only the firm and their new rating for some date.\n",
        "# Don't care about the \"From Grade\" or whether it is their first time\n",
        "# giving a rating.\n",
        "ratings_to_plot = pd.DataFrame(ratings[[\"Firm\", \"To Grade\"]])\n",
        "ratings_to_plot"
      ],
      "execution_count": null,
      "outputs": [
        {
          "output_type": "execute_result",
          "data": {
            "text/html": [
              "<div>\n",
              "<style scoped>\n",
              "    .dataframe tbody tr th:only-of-type {\n",
              "        vertical-align: middle;\n",
              "    }\n",
              "\n",
              "    .dataframe tbody tr th {\n",
              "        vertical-align: top;\n",
              "    }\n",
              "\n",
              "    .dataframe thead th {\n",
              "        text-align: right;\n",
              "    }\n",
              "</style>\n",
              "<table border=\"1\" class=\"dataframe\">\n",
              "  <thead>\n",
              "    <tr style=\"text-align: right;\">\n",
              "      <th></th>\n",
              "      <th>Firm</th>\n",
              "      <th>To Grade</th>\n",
              "    </tr>\n",
              "    <tr>\n",
              "      <th>Date</th>\n",
              "      <th></th>\n",
              "      <th></th>\n",
              "    </tr>\n",
              "  </thead>\n",
              "  <tbody>\n",
              "    <tr>\n",
              "      <th>2012-04-02 06:07:00</th>\n",
              "      <td>Bank oferica</td>\n",
              "      <td>Neutral</td>\n",
              "    </tr>\n",
              "    <tr>\n",
              "      <th>2012-06-29 05:39:00</th>\n",
              "      <td>Bank of America</td>\n",
              "      <td>Buy</td>\n",
              "    </tr>\n",
              "    <tr>\n",
              "      <th>2012-07-27 06:48:00</th>\n",
              "      <td>Deutsche Bank</td>\n",
              "      <td>Hold</td>\n",
              "    </tr>\n",
              "    <tr>\n",
              "      <th>2012-10-26 08:08:00</th>\n",
              "      <td>Deutsche Bank</td>\n",
              "      <td>Hold</td>\n",
              "    </tr>\n",
              "    <tr>\n",
              "      <th>2012-12-17 09:25:05</th>\n",
              "      <td>William Blair</td>\n",
              "      <td>Outperform</td>\n",
              "    </tr>\n",
              "    <tr>\n",
              "      <th>...</th>\n",
              "      <td>...</td>\n",
              "      <td>...</td>\n",
              "    </tr>\n",
              "    <tr>\n",
              "      <th>2020-07-24 11:11:29</th>\n",
              "      <td>Barclays</td>\n",
              "      <td>Overweight</td>\n",
              "    </tr>\n",
              "    <tr>\n",
              "      <th>2020-07-24 12:27:49</th>\n",
              "      <td>Credit Suisse</td>\n",
              "      <td>Outperform</td>\n",
              "    </tr>\n",
              "    <tr>\n",
              "      <th>2020-07-27 11:29:51</th>\n",
              "      <td>Raymond James</td>\n",
              "      <td>Outperform</td>\n",
              "    </tr>\n",
              "    <tr>\n",
              "      <th>2020-09-08 11:06:41</th>\n",
              "      <td>SVB Leerink</td>\n",
              "      <td>Outperform</td>\n",
              "    </tr>\n",
              "    <tr>\n",
              "      <th>2020-09-25 11:43:45</th>\n",
              "      <td>Goldman Sachs</td>\n",
              "      <td>Buy</td>\n",
              "    </tr>\n",
              "  </tbody>\n",
              "</table>\n",
              "<p>77 rows × 2 columns</p>\n",
              "</div>"
            ],
            "text/plain": [
              "                                Firm    To Grade\n",
              "Date                                            \n",
              "2012-04-02 06:07:00     Bank oferica     Neutral\n",
              "2012-06-29 05:39:00  Bank of America         Buy\n",
              "2012-07-27 06:48:00    Deutsche Bank        Hold\n",
              "2012-10-26 08:08:00    Deutsche Bank        Hold\n",
              "2012-12-17 09:25:05    William Blair  Outperform\n",
              "...                              ...         ...\n",
              "2020-07-24 11:11:29         Barclays  Overweight\n",
              "2020-07-24 12:27:49    Credit Suisse  Outperform\n",
              "2020-07-27 11:29:51    Raymond James  Outperform\n",
              "2020-09-08 11:06:41      SVB Leerink  Outperform\n",
              "2020-09-25 11:43:45    Goldman Sachs         Buy\n",
              "\n",
              "[77 rows x 2 columns]"
            ]
          },
          "metadata": {
            "tags": []
          },
          "execution_count": 16
        }
      ]
    },
    {
      "cell_type": "code",
      "metadata": {
        "colab": {
          "base_uri": "https://localhost:8080/"
        },
        "id": "KdNjJJKpe7Xq",
        "outputId": "a4c1ca75-8659-475f-a023-b0bdb24c7a01"
      },
      "source": [
        "ratings_to_plot[\"Firm\"].unique()"
      ],
      "execution_count": null,
      "outputs": [
        {
          "output_type": "execute_result",
          "data": {
            "text/plain": [
              "array(['Bank oferica', 'Bank of America', 'Deutsche Bank',\n",
              "       'William Blair', 'Janney Capital', 'Lazard',\n",
              "       'SunTrust Robinson Humphrey', 'RBC Capital', 'Jefferies',\n",
              "       'Stifel Nicolaus', 'Craig-Hallum', 'Citigroup', 'Stifel',\n",
              "       'FBR Capital', 'Wells Fargo', 'Cantor Fitzgerald',\n",
              "       'Chardan Capital', 'Evercore ISI Group', 'Credit Suisse',\n",
              "       'First Analysis', 'Raymond James', 'Barclays', 'SVB Leerink',\n",
              "       'Goldman Sachs'], dtype=object)"
            ]
          },
          "metadata": {
            "tags": []
          },
          "execution_count": 17
        }
      ]
    },
    {
      "cell_type": "code",
      "metadata": {
        "colab": {
          "base_uri": "https://localhost:8080/",
          "height": 446
        },
        "id": "NR8rEe1khYeS",
        "outputId": "7497e83d-dc46-4e34-d33e-11b64239671e"
      },
      "source": [
        "# Convert all 'Bank oferica' to 'Bank of America'\n",
        "def bofa_fix(x):\n",
        "  if x == 'Bank oferica':\n",
        "    return 'Bank of America'\n",
        "  else:\n",
        "    return x\n",
        "\n",
        "ratings_to_plot[\"Firm\"] = ratings_to_plot[\"Firm\"].apply(bofa_fix)\n",
        "ratings_to_plot"
      ],
      "execution_count": null,
      "outputs": [
        {
          "output_type": "execute_result",
          "data": {
            "text/html": [
              "<div>\n",
              "<style scoped>\n",
              "    .dataframe tbody tr th:only-of-type {\n",
              "        vertical-align: middle;\n",
              "    }\n",
              "\n",
              "    .dataframe tbody tr th {\n",
              "        vertical-align: top;\n",
              "    }\n",
              "\n",
              "    .dataframe thead th {\n",
              "        text-align: right;\n",
              "    }\n",
              "</style>\n",
              "<table border=\"1\" class=\"dataframe\">\n",
              "  <thead>\n",
              "    <tr style=\"text-align: right;\">\n",
              "      <th></th>\n",
              "      <th>Firm</th>\n",
              "      <th>To Grade</th>\n",
              "    </tr>\n",
              "    <tr>\n",
              "      <th>Date</th>\n",
              "      <th></th>\n",
              "      <th></th>\n",
              "    </tr>\n",
              "  </thead>\n",
              "  <tbody>\n",
              "    <tr>\n",
              "      <th>2012-04-02 06:07:00</th>\n",
              "      <td>Bank of America</td>\n",
              "      <td>Neutral</td>\n",
              "    </tr>\n",
              "    <tr>\n",
              "      <th>2012-06-29 05:39:00</th>\n",
              "      <td>Bank of America</td>\n",
              "      <td>Buy</td>\n",
              "    </tr>\n",
              "    <tr>\n",
              "      <th>2012-07-27 06:48:00</th>\n",
              "      <td>Deutsche Bank</td>\n",
              "      <td>Hold</td>\n",
              "    </tr>\n",
              "    <tr>\n",
              "      <th>2012-10-26 08:08:00</th>\n",
              "      <td>Deutsche Bank</td>\n",
              "      <td>Hold</td>\n",
              "    </tr>\n",
              "    <tr>\n",
              "      <th>2012-12-17 09:25:05</th>\n",
              "      <td>William Blair</td>\n",
              "      <td>Outperform</td>\n",
              "    </tr>\n",
              "    <tr>\n",
              "      <th>...</th>\n",
              "      <td>...</td>\n",
              "      <td>...</td>\n",
              "    </tr>\n",
              "    <tr>\n",
              "      <th>2020-07-24 11:11:29</th>\n",
              "      <td>Barclays</td>\n",
              "      <td>Overweight</td>\n",
              "    </tr>\n",
              "    <tr>\n",
              "      <th>2020-07-24 12:27:49</th>\n",
              "      <td>Credit Suisse</td>\n",
              "      <td>Outperform</td>\n",
              "    </tr>\n",
              "    <tr>\n",
              "      <th>2020-07-27 11:29:51</th>\n",
              "      <td>Raymond James</td>\n",
              "      <td>Outperform</td>\n",
              "    </tr>\n",
              "    <tr>\n",
              "      <th>2020-09-08 11:06:41</th>\n",
              "      <td>SVB Leerink</td>\n",
              "      <td>Outperform</td>\n",
              "    </tr>\n",
              "    <tr>\n",
              "      <th>2020-09-25 11:43:45</th>\n",
              "      <td>Goldman Sachs</td>\n",
              "      <td>Buy</td>\n",
              "    </tr>\n",
              "  </tbody>\n",
              "</table>\n",
              "<p>77 rows × 2 columns</p>\n",
              "</div>"
            ],
            "text/plain": [
              "                                Firm    To Grade\n",
              "Date                                            \n",
              "2012-04-02 06:07:00  Bank of America     Neutral\n",
              "2012-06-29 05:39:00  Bank of America         Buy\n",
              "2012-07-27 06:48:00    Deutsche Bank        Hold\n",
              "2012-10-26 08:08:00    Deutsche Bank        Hold\n",
              "2012-12-17 09:25:05    William Blair  Outperform\n",
              "...                              ...         ...\n",
              "2020-07-24 11:11:29         Barclays  Overweight\n",
              "2020-07-24 12:27:49    Credit Suisse  Outperform\n",
              "2020-07-27 11:29:51    Raymond James  Outperform\n",
              "2020-09-08 11:06:41      SVB Leerink  Outperform\n",
              "2020-09-25 11:43:45    Goldman Sachs         Buy\n",
              "\n",
              "[77 rows x 2 columns]"
            ]
          },
          "metadata": {
            "tags": []
          },
          "execution_count": 18
        }
      ]
    },
    {
      "cell_type": "markdown",
      "metadata": {
        "id": "YStnLKsuf3zs"
      },
      "source": [
        "*Need to do more research on what these ratings actually mean and how they relate to each other. Some might be synonyms as well.*"
      ]
    },
    {
      "cell_type": "code",
      "metadata": {
        "colab": {
          "base_uri": "https://localhost:8080/"
        },
        "id": "wuKFr_uKfYkh",
        "outputId": "418b03ef-a3d2-45b7-b706-c31cabb03463"
      },
      "source": [
        "ratings_to_plot[\"To Grade\"].unique()"
      ],
      "execution_count": null,
      "outputs": [
        {
          "output_type": "execute_result",
          "data": {
            "text/plain": [
              "array(['Neutral', 'Buy', 'Hold', 'Outperform', 'Underperform', 'Sell',\n",
              "       'Sector Perform', 'Market Perform', 'Overweight', 'Strong Buy'],\n",
              "      dtype=object)"
            ]
          },
          "metadata": {
            "tags": []
          },
          "execution_count": 19
        }
      ]
    },
    {
      "cell_type": "code",
      "metadata": {
        "id": "6TylklWzfvXp"
      },
      "source": [
        "# Convert Ratings to Numbers.\n",
        "# Neutral, Hold, Sector Perform, Market Perform are all 0\n",
        "# Buy, Outperform, Strong Buy are all 1\n",
        "# Underperform, Sell, Overweight are all -1\n",
        "\n",
        "ratings_converter = {\n",
        "    'Underperform': -1,\n",
        "    'Sell': -1,\n",
        "    'Overweight': -1,\n",
        "    'Neutral': 0,\n",
        "    'Hold': 0,\n",
        "    'Sector Perform': 0,\n",
        "    'Market Perform': 0,\n",
        "    'Buy': 1,\n",
        "    'Outperform': 1,\n",
        "    'Strong Buy': 1\n",
        "}\n",
        "def ratings_to_num(x):\n",
        "  return ratings_converter[x]\n",
        "\n",
        "ratings_to_plot[\"To Grade\"] = ratings_to_plot[\"To Grade\"].apply(ratings_to_num)"
      ],
      "execution_count": null,
      "outputs": []
    },
    {
      "cell_type": "code",
      "metadata": {
        "colab": {
          "base_uri": "https://localhost:8080/",
          "height": 662
        },
        "id": "8jgOtRSuiSb6",
        "outputId": "5bcb3ee8-9d97-48c5-d021-81f1c109d0fc"
      },
      "source": [
        "# Trim down to only BofA, Deutsche Bank, and William Blair\n",
        "firms = ['Bank of America', 'Deutsche Bank', 'William Blair']\n",
        "final_ratings = pd.DataFrame(ratings_to_plot[ratings_to_plot[\"Firm\"].isin(firms)])\n",
        "# Add Date as a column from the index so that we can use it to make a pivot table later\n",
        "final_ratings['Date'] = final_ratings.index\n",
        "final_ratings"
      ],
      "execution_count": null,
      "outputs": [
        {
          "output_type": "execute_result",
          "data": {
            "text/html": [
              "<div>\n",
              "<style scoped>\n",
              "    .dataframe tbody tr th:only-of-type {\n",
              "        vertical-align: middle;\n",
              "    }\n",
              "\n",
              "    .dataframe tbody tr th {\n",
              "        vertical-align: top;\n",
              "    }\n",
              "\n",
              "    .dataframe thead th {\n",
              "        text-align: right;\n",
              "    }\n",
              "</style>\n",
              "<table border=\"1\" class=\"dataframe\">\n",
              "  <thead>\n",
              "    <tr style=\"text-align: right;\">\n",
              "      <th></th>\n",
              "      <th>Firm</th>\n",
              "      <th>To Grade</th>\n",
              "      <th>Date</th>\n",
              "    </tr>\n",
              "    <tr>\n",
              "      <th>Date</th>\n",
              "      <th></th>\n",
              "      <th></th>\n",
              "      <th></th>\n",
              "    </tr>\n",
              "  </thead>\n",
              "  <tbody>\n",
              "    <tr>\n",
              "      <th>2012-04-02 06:07:00</th>\n",
              "      <td>Bank of America</td>\n",
              "      <td>0</td>\n",
              "      <td>2012-04-02 06:07:00</td>\n",
              "    </tr>\n",
              "    <tr>\n",
              "      <th>2012-06-29 05:39:00</th>\n",
              "      <td>Bank of America</td>\n",
              "      <td>1</td>\n",
              "      <td>2012-06-29 05:39:00</td>\n",
              "    </tr>\n",
              "    <tr>\n",
              "      <th>2012-07-27 06:48:00</th>\n",
              "      <td>Deutsche Bank</td>\n",
              "      <td>0</td>\n",
              "      <td>2012-07-27 06:48:00</td>\n",
              "    </tr>\n",
              "    <tr>\n",
              "      <th>2012-10-26 08:08:00</th>\n",
              "      <td>Deutsche Bank</td>\n",
              "      <td>0</td>\n",
              "      <td>2012-10-26 08:08:00</td>\n",
              "    </tr>\n",
              "    <tr>\n",
              "      <th>2012-12-17 09:25:05</th>\n",
              "      <td>William Blair</td>\n",
              "      <td>1</td>\n",
              "      <td>2012-12-17 09:25:05</td>\n",
              "    </tr>\n",
              "    <tr>\n",
              "      <th>2013-01-04 07:09:00</th>\n",
              "      <td>Bank of America</td>\n",
              "      <td>-1</td>\n",
              "      <td>2013-01-04 07:09:00</td>\n",
              "    </tr>\n",
              "    <tr>\n",
              "      <th>2013-02-15 08:31:14</th>\n",
              "      <td>Deutsche Bank</td>\n",
              "      <td>0</td>\n",
              "      <td>2013-02-15 08:31:14</td>\n",
              "    </tr>\n",
              "    <tr>\n",
              "      <th>2013-02-15 08:39:15</th>\n",
              "      <td>Bank of America</td>\n",
              "      <td>-1</td>\n",
              "      <td>2013-02-15 08:39:15</td>\n",
              "    </tr>\n",
              "    <tr>\n",
              "      <th>2013-04-02 06:09:02</th>\n",
              "      <td>Bank of America</td>\n",
              "      <td>1</td>\n",
              "      <td>2013-04-02 06:09:02</td>\n",
              "    </tr>\n",
              "    <tr>\n",
              "      <th>2013-07-16 08:57:00</th>\n",
              "      <td>Deutsche Bank</td>\n",
              "      <td>0</td>\n",
              "      <td>2013-07-16 08:57:00</td>\n",
              "    </tr>\n",
              "    <tr>\n",
              "      <th>2014-05-02 01:40:16</th>\n",
              "      <td>Deutsche Bank</td>\n",
              "      <td>0</td>\n",
              "      <td>2014-05-02 01:40:16</td>\n",
              "    </tr>\n",
              "    <tr>\n",
              "      <th>2014-05-02 07:12:00</th>\n",
              "      <td>Bank of America</td>\n",
              "      <td>1</td>\n",
              "      <td>2014-05-02 07:12:00</td>\n",
              "    </tr>\n",
              "    <tr>\n",
              "      <th>2014-07-31 21:28:00</th>\n",
              "      <td>Deutsche Bank</td>\n",
              "      <td>0</td>\n",
              "      <td>2014-07-31 21:28:00</td>\n",
              "    </tr>\n",
              "    <tr>\n",
              "      <th>2014-08-01 08:06:27</th>\n",
              "      <td>Bank of America</td>\n",
              "      <td>0</td>\n",
              "      <td>2014-08-01 08:06:27</td>\n",
              "    </tr>\n",
              "    <tr>\n",
              "      <th>2015-01-15 00:00:00</th>\n",
              "      <td>William Blair</td>\n",
              "      <td>0</td>\n",
              "      <td>2015-01-15 00:00:00</td>\n",
              "    </tr>\n",
              "    <tr>\n",
              "      <th>2015-01-16 09:00:00</th>\n",
              "      <td>Deutsche Bank</td>\n",
              "      <td>0</td>\n",
              "      <td>2015-01-16 09:00:00</td>\n",
              "    </tr>\n",
              "    <tr>\n",
              "      <th>2019-09-12 11:04:41</th>\n",
              "      <td>Deutsche Bank</td>\n",
              "      <td>1</td>\n",
              "      <td>2019-09-12 11:04:41</td>\n",
              "    </tr>\n",
              "    <tr>\n",
              "      <th>2020-02-21 13:48:18</th>\n",
              "      <td>Deutsche Bank</td>\n",
              "      <td>1</td>\n",
              "      <td>2020-02-21 13:48:18</td>\n",
              "    </tr>\n",
              "    <tr>\n",
              "      <th>2020-04-27 12:35:05</th>\n",
              "      <td>Deutsche Bank</td>\n",
              "      <td>1</td>\n",
              "      <td>2020-04-27 12:35:05</td>\n",
              "    </tr>\n",
              "  </tbody>\n",
              "</table>\n",
              "</div>"
            ],
            "text/plain": [
              "                                Firm  To Grade                Date\n",
              "Date                                                              \n",
              "2012-04-02 06:07:00  Bank of America         0 2012-04-02 06:07:00\n",
              "2012-06-29 05:39:00  Bank of America         1 2012-06-29 05:39:00\n",
              "2012-07-27 06:48:00    Deutsche Bank         0 2012-07-27 06:48:00\n",
              "2012-10-26 08:08:00    Deutsche Bank         0 2012-10-26 08:08:00\n",
              "2012-12-17 09:25:05    William Blair         1 2012-12-17 09:25:05\n",
              "2013-01-04 07:09:00  Bank of America        -1 2013-01-04 07:09:00\n",
              "2013-02-15 08:31:14    Deutsche Bank         0 2013-02-15 08:31:14\n",
              "2013-02-15 08:39:15  Bank of America        -1 2013-02-15 08:39:15\n",
              "2013-04-02 06:09:02  Bank of America         1 2013-04-02 06:09:02\n",
              "2013-07-16 08:57:00    Deutsche Bank         0 2013-07-16 08:57:00\n",
              "2014-05-02 01:40:16    Deutsche Bank         0 2014-05-02 01:40:16\n",
              "2014-05-02 07:12:00  Bank of America         1 2014-05-02 07:12:00\n",
              "2014-07-31 21:28:00    Deutsche Bank         0 2014-07-31 21:28:00\n",
              "2014-08-01 08:06:27  Bank of America         0 2014-08-01 08:06:27\n",
              "2015-01-15 00:00:00    William Blair         0 2015-01-15 00:00:00\n",
              "2015-01-16 09:00:00    Deutsche Bank         0 2015-01-16 09:00:00\n",
              "2019-09-12 11:04:41    Deutsche Bank         1 2019-09-12 11:04:41\n",
              "2020-02-21 13:48:18    Deutsche Bank         1 2020-02-21 13:48:18\n",
              "2020-04-27 12:35:05    Deutsche Bank         1 2020-04-27 12:35:05"
            ]
          },
          "metadata": {
            "tags": []
          },
          "execution_count": 21
        }
      ]
    },
    {
      "cell_type": "code",
      "metadata": {
        "colab": {
          "base_uri": "https://localhost:8080/",
          "height": 662
        },
        "id": "zwJdqmyUi9u3",
        "outputId": "b434d45c-5924-4b37-fe13-a58b9213baaa"
      },
      "source": [
        "# Create a pivot table to convert the Firms we are looking at into their\n",
        "# own columns so that it is easy to plot later on.\n",
        "final_ratings = final_ratings.pivot(index='Date', columns='Firm', values='To Grade')\n",
        "final_ratings"
      ],
      "execution_count": null,
      "outputs": [
        {
          "output_type": "execute_result",
          "data": {
            "text/html": [
              "<div>\n",
              "<style scoped>\n",
              "    .dataframe tbody tr th:only-of-type {\n",
              "        vertical-align: middle;\n",
              "    }\n",
              "\n",
              "    .dataframe tbody tr th {\n",
              "        vertical-align: top;\n",
              "    }\n",
              "\n",
              "    .dataframe thead th {\n",
              "        text-align: right;\n",
              "    }\n",
              "</style>\n",
              "<table border=\"1\" class=\"dataframe\">\n",
              "  <thead>\n",
              "    <tr style=\"text-align: right;\">\n",
              "      <th>Firm</th>\n",
              "      <th>Bank of America</th>\n",
              "      <th>Deutsche Bank</th>\n",
              "      <th>William Blair</th>\n",
              "    </tr>\n",
              "    <tr>\n",
              "      <th>Date</th>\n",
              "      <th></th>\n",
              "      <th></th>\n",
              "      <th></th>\n",
              "    </tr>\n",
              "  </thead>\n",
              "  <tbody>\n",
              "    <tr>\n",
              "      <th>2012-04-02 06:07:00</th>\n",
              "      <td>0.0</td>\n",
              "      <td>NaN</td>\n",
              "      <td>NaN</td>\n",
              "    </tr>\n",
              "    <tr>\n",
              "      <th>2012-06-29 05:39:00</th>\n",
              "      <td>1.0</td>\n",
              "      <td>NaN</td>\n",
              "      <td>NaN</td>\n",
              "    </tr>\n",
              "    <tr>\n",
              "      <th>2012-07-27 06:48:00</th>\n",
              "      <td>NaN</td>\n",
              "      <td>0.0</td>\n",
              "      <td>NaN</td>\n",
              "    </tr>\n",
              "    <tr>\n",
              "      <th>2012-10-26 08:08:00</th>\n",
              "      <td>NaN</td>\n",
              "      <td>0.0</td>\n",
              "      <td>NaN</td>\n",
              "    </tr>\n",
              "    <tr>\n",
              "      <th>2012-12-17 09:25:05</th>\n",
              "      <td>NaN</td>\n",
              "      <td>NaN</td>\n",
              "      <td>1.0</td>\n",
              "    </tr>\n",
              "    <tr>\n",
              "      <th>2013-01-04 07:09:00</th>\n",
              "      <td>-1.0</td>\n",
              "      <td>NaN</td>\n",
              "      <td>NaN</td>\n",
              "    </tr>\n",
              "    <tr>\n",
              "      <th>2013-02-15 08:31:14</th>\n",
              "      <td>NaN</td>\n",
              "      <td>0.0</td>\n",
              "      <td>NaN</td>\n",
              "    </tr>\n",
              "    <tr>\n",
              "      <th>2013-02-15 08:39:15</th>\n",
              "      <td>-1.0</td>\n",
              "      <td>NaN</td>\n",
              "      <td>NaN</td>\n",
              "    </tr>\n",
              "    <tr>\n",
              "      <th>2013-04-02 06:09:02</th>\n",
              "      <td>1.0</td>\n",
              "      <td>NaN</td>\n",
              "      <td>NaN</td>\n",
              "    </tr>\n",
              "    <tr>\n",
              "      <th>2013-07-16 08:57:00</th>\n",
              "      <td>NaN</td>\n",
              "      <td>0.0</td>\n",
              "      <td>NaN</td>\n",
              "    </tr>\n",
              "    <tr>\n",
              "      <th>2014-05-02 01:40:16</th>\n",
              "      <td>NaN</td>\n",
              "      <td>0.0</td>\n",
              "      <td>NaN</td>\n",
              "    </tr>\n",
              "    <tr>\n",
              "      <th>2014-05-02 07:12:00</th>\n",
              "      <td>1.0</td>\n",
              "      <td>NaN</td>\n",
              "      <td>NaN</td>\n",
              "    </tr>\n",
              "    <tr>\n",
              "      <th>2014-07-31 21:28:00</th>\n",
              "      <td>NaN</td>\n",
              "      <td>0.0</td>\n",
              "      <td>NaN</td>\n",
              "    </tr>\n",
              "    <tr>\n",
              "      <th>2014-08-01 08:06:27</th>\n",
              "      <td>0.0</td>\n",
              "      <td>NaN</td>\n",
              "      <td>NaN</td>\n",
              "    </tr>\n",
              "    <tr>\n",
              "      <th>2015-01-15 00:00:00</th>\n",
              "      <td>NaN</td>\n",
              "      <td>NaN</td>\n",
              "      <td>0.0</td>\n",
              "    </tr>\n",
              "    <tr>\n",
              "      <th>2015-01-16 09:00:00</th>\n",
              "      <td>NaN</td>\n",
              "      <td>0.0</td>\n",
              "      <td>NaN</td>\n",
              "    </tr>\n",
              "    <tr>\n",
              "      <th>2019-09-12 11:04:41</th>\n",
              "      <td>NaN</td>\n",
              "      <td>1.0</td>\n",
              "      <td>NaN</td>\n",
              "    </tr>\n",
              "    <tr>\n",
              "      <th>2020-02-21 13:48:18</th>\n",
              "      <td>NaN</td>\n",
              "      <td>1.0</td>\n",
              "      <td>NaN</td>\n",
              "    </tr>\n",
              "    <tr>\n",
              "      <th>2020-04-27 12:35:05</th>\n",
              "      <td>NaN</td>\n",
              "      <td>1.0</td>\n",
              "      <td>NaN</td>\n",
              "    </tr>\n",
              "  </tbody>\n",
              "</table>\n",
              "</div>"
            ],
            "text/plain": [
              "Firm                 Bank of America  Deutsche Bank  William Blair\n",
              "Date                                                              \n",
              "2012-04-02 06:07:00              0.0            NaN            NaN\n",
              "2012-06-29 05:39:00              1.0            NaN            NaN\n",
              "2012-07-27 06:48:00              NaN            0.0            NaN\n",
              "2012-10-26 08:08:00              NaN            0.0            NaN\n",
              "2012-12-17 09:25:05              NaN            NaN            1.0\n",
              "2013-01-04 07:09:00             -1.0            NaN            NaN\n",
              "2013-02-15 08:31:14              NaN            0.0            NaN\n",
              "2013-02-15 08:39:15             -1.0            NaN            NaN\n",
              "2013-04-02 06:09:02              1.0            NaN            NaN\n",
              "2013-07-16 08:57:00              NaN            0.0            NaN\n",
              "2014-05-02 01:40:16              NaN            0.0            NaN\n",
              "2014-05-02 07:12:00              1.0            NaN            NaN\n",
              "2014-07-31 21:28:00              NaN            0.0            NaN\n",
              "2014-08-01 08:06:27              0.0            NaN            NaN\n",
              "2015-01-15 00:00:00              NaN            NaN            0.0\n",
              "2015-01-16 09:00:00              NaN            0.0            NaN\n",
              "2019-09-12 11:04:41              NaN            1.0            NaN\n",
              "2020-02-21 13:48:18              NaN            1.0            NaN\n",
              "2020-04-27 12:35:05              NaN            1.0            NaN"
            ]
          },
          "metadata": {
            "tags": []
          },
          "execution_count": 22
        }
      ]
    },
    {
      "cell_type": "code",
      "metadata": {
        "colab": {
          "base_uri": "https://localhost:8080/",
          "height": 285
        },
        "id": "gLpGHrqBhptq",
        "outputId": "d799e589-f4b0-4dac-e59e-d6353509d755"
      },
      "source": [
        "# Plot the pivot table.\n",
        "# Colored lines and legend will automatically be drawn\n",
        "# because we are using a pivot table with firms as columns.\n",
        "final_ratings.plot(marker='o')\n",
        "plt.xlabel(\"Date\")\n",
        "plt.ylabel(\"Ratings\")\n",
        "plt.title(\"eHealth Analyst Ratings Over Time\")\n",
        "plt.show()"
      ],
      "execution_count": null,
      "outputs": [
        {
          "output_type": "display_data",
          "data": {
            "image/png": "[encoded data removed]",
            "text/plain": [
              "<Figure size 432x288 with 1 Axes>"
            ]
          },
          "metadata": {
            "tags": [],
            "needs_background": "light"
          }
        }
      ]
    }
  ]
}